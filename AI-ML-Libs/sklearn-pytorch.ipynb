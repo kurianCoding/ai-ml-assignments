{
 "cells": [
  {
   "cell_type": "markdown",
   "metadata": {},
   "source": [
    "# Using Libraries for ML and AI\n",
    "\n",
    "The reason why we implemented logistic regression and a simple neural network from scratch was to understand the internals of these methods. In practice, there are excellent libraries and frameworks that you can rely on for ML and AI instead of coding them from scratch. \n",
    "\n",
    "We will introduce you to two such libraries - scikit learn and pytorch. In this assignment, you will use scikit learn (which is sort of the default choice in python for a machine learning library) for logistic regression and pytorch for neural networks. There are several popular deep learning frameworks like pytorch, keras, tensorflow, and so on and you are free to learn any deep learning framework you like since the underlying concepts are fairly similar.\n",
    "\n",
    "The main task for you in this assignment is to familiarize yourself and learn how to use these standard libraries. Please go through the documentation, tutorials, and online resources that are freely available to learn more about them."
   ]
  },
  {
   "cell_type": "markdown",
   "metadata": {},
   "source": [
    "# Import libraries\n",
    "\n",
    "Apart from the standard libraries, this time we will import scikit learn and pytorch."
   ]
  },
  {
   "cell_type": "code",
   "execution_count": null,
   "metadata": {},
   "outputs": [],
   "source": [
    "#Checking out the repository to make it work with colab\n",
    "!git clone https://github.com/<your-github-user-name>/ai-ml-assignments.git\n"
   ]
  },
  {
   "cell_type": "code",
   "execution_count": null,
   "metadata": {},
   "outputs": [],
   "source": [
    "import sys\n",
    "import numpy as np\n",
    "sys.path.append('ai-ml-assignments')\n",
    "from utils import utils\n",
    "\n",
    "#Import scikit  \n",
    "from sklearn.linear_model import SGDClassifier\n",
    "\n",
    "#Import pytorch\n",
    "import torch\n",
    "import torch.nn as nn\n",
    "from torch.autograd import Variable"
   ]
  },
  {
   "cell_type": "markdown",
   "metadata": {},
   "source": [
    "# Create the dataset\n",
    "\n",
    "Let us create the dataset that we have been using so far."
   ]
  },
  {
   "cell_type": "code",
   "execution_count": null,
   "metadata": {},
   "outputs": [],
   "source": [
    "X_train,yhat_train,X_test,yhat_test = utils.create_simple_dataset()"
   ]
  },
  {
   "cell_type": "markdown",
   "metadata": {},
   "source": [
    "# Logistic Regression using Scikit Learn\n",
    "\n",
    "Create an instance of logistic regression using SGDClassifier with loss set to 'log' for logistic regression. Select the appropriate options from the documentation at https://scikit-learn.org/stable/modules/generated/sklearn.linear_model.SGDClassifier.html. Train the model and check the accuracy of the predictions. "
   ]
  },
  {
   "cell_type": "code",
   "execution_count": null,
   "metadata": {},
   "outputs": [],
   "source": [
    "# Create an SGDClassifier object with loss set to log for logistic regression\n",
    "\n",
    "# Go through the documentation and determine appropriate values for the parameters of SGDClassifier \n",
    "# for training a logistic regression model\n",
    "logreg  = SGDClassifier(...)\n",
    "\n",
    "# fit the model on the training set by calling the appropriate function\n",
    "binclf = \n",
    "\n",
    "# Predict the class for the test set\n",
    "predicted = \n",
    "\n",
    "# Determine the accuracy on test set and print it\n",
    "acc = \n",
    "print(\"Accuracy on test set is \" + str(acc))"
   ]
  },
  {
   "cell_type": "markdown",
   "metadata": {},
   "source": [
    "# Neural Networks Using Pytorch\n",
    "\n",
    "Create a neural network using Pytorch. Go through the quick start documentation of Pytorch at https://pytorch.org/tutorials/beginner/deep_learning_60min_blitz.html"
   ]
  },
  {
   "cell_type": "code",
   "execution_count": null,
   "metadata": {},
   "outputs": [],
   "source": [
    "# Create a class and define the layers and activations in the __init__\n",
    "# and implement the forward propagation. Pytorch will automatically\n",
    "# calculate the backward propagation for you. \n",
    "\n",
    "class NeuralNet(nn.Module):\n",
    "    # A Neural Network with a hidden layer, the same one you implemented\n",
    "    # in assignment 3 but this time using pytorch. \n",
    "    \n",
    "    # Create a constructor and define the layers and activations\n",
    "    def __init__(self, input_size,hidden_size,output_size):\n",
    "        # Arguments:\n",
    "        #    input_size  : The number of neurons in the input layer\n",
    "        #    hidden_size : The number of neurons in the hidden layer\n",
    "        #    output_size : The number of neurons in the output layer\n",
    "\n",
    "        super(NeuralNet, self).__init__()\n",
    "        \n",
    "        # Define a pytorch linear layer that connects the input layer to the hidden layer\n",
    "        self.layer1 = \n",
    "        # Define a pytorch linear layer that connects the hidden layer to the output layer\n",
    "        self.layer2 = \n",
    "        # Define a pytorch tanh activation\n",
    "        self.tanh = \n",
    "        # Define a pytorch sigmoid activation\n",
    "        self.sigmoid = \n",
    "\n",
    "    # Implement forward propagation using the definitions above     \n",
    "    def forward(self, x):\n",
    "      # Arguments:\n",
    "      #    x      : The input x\n",
    "      # Returns:\n",
    "      #    output : The sigmoid activation from the output layer\n",
    "      \n",
    "        output = \n",
    "        return output"
   ]
  },
  {
   "cell_type": "markdown",
   "metadata": {},
   "source": [
    "### Create a neural network\n",
    "\n",
    "Use the class defined above to create a neural network. "
   ]
  },
  {
   "cell_type": "code",
   "execution_count": null,
   "metadata": {},
   "outputs": [],
   "source": [
    "# Set the size of the input layer, the hidden layer, and the output layer\n",
    "input_size = 2\n",
    "hidden_size = 5\n",
    "output_size = 1\n",
    "\n",
    "# Set the number of epochs for training\n",
    "num_epochs = 1000\n",
    "\n",
    "# Set the learning rate\n",
    "learning_rate = 0.05\n",
    "\n",
    "# Create an instance of the neural network\n",
    "model = \n",
    "\n",
    "# Create binary cross entroy loss function\n",
    "lossFunction = \n",
    "\n",
    "# Create an optimizer and pass as arguments the parameters of the model\n",
    "# and the learning rate\n",
    "optimizer = "
   ]
  },
  {
   "cell_type": "markdown",
   "metadata": {
    "collapsed": true
   },
   "source": [
    "### Train the neural network\n",
    "\n",
    "Implement the training loop"
   ]
  },
  {
   "cell_type": "code",
   "execution_count": null,
   "metadata": {},
   "outputs": [],
   "source": [
    "# Create the pytorch tensors for the training and test set. Since we are not interested\n",
    "# in treating the train and test set as trainable parameters, we turn off gradient \n",
    "# computations for them\n",
    "\n",
    "X_train_var = Variable(torch.from_numpy(X_train.T).float(), requires_grad=False)\n",
    "yhat_train_var = Variable(torch.from_numpy(yhat_train.T).float(),requires_grad=False)\n",
    "X_test_var = Variable(torch.from_numpy(X_test.T).float(), requires_grad=False)\n",
    "yhat_test_var = Variable(torch.from_numpy(yhat_test.T).float(),requires_grad=False)\n",
    "\n",
    "# Write the training loop\n",
    "for epoch in range(num_epochs):\n",
    "    # Calculate the activations for the training set using forward propagation\n",
    "    out = \n",
    "    \n",
    "    # Calculate the value of loss using the output of the forward propagation and the \n",
    "    # ground truth for the training set\n",
    "    loss = \n",
    "    \n",
    "    # Reset the gradients to zero\n",
    "    optimizer.\n",
    "    \n",
    "    # Run the backward propagation and update the parameters by one step\n",
    "    loss.\n",
    "    optimizer.\n",
    "\n",
    "    if epoch%100 == 0:\n",
    "        print('Epoch [{}/{}], Loss: {:.4f}' .format(epoch, num_epochs, loss.item()))\n"
   ]
  },
  {
   "cell_type": "markdown",
   "metadata": {},
   "source": [
    "### Test the accuracy of the predictions\n",
    "\n",
    "Run inference on the trained model using the test set"
   ]
  },
  {
   "cell_type": "code",
   "execution_count": null,
   "metadata": {},
   "outputs": [],
   "source": [
    "# Run the forward propagation on the test set and generate the output activations\n",
    "out = \n",
    "\n",
    "# Convert the activations to 0 or 1.\n",
    "pred = \n",
    "\n",
    "# Calculate the accuracy of the predictions by comparing with the ground truth of test set\n",
    "acc = \n",
    "\n",
    "print(\"Accuracy on test set is \" + str(acc))\n"
   ]
  },
  {
   "cell_type": "code",
   "execution_count": null,
   "metadata": {},
   "outputs": [],
   "source": []
  },
  {
   "cell_type": "code",
   "execution_count": null,
   "metadata": {},
   "outputs": [],
   "source": []
  }
 ],
 "metadata": {
  "kernelspec": {
   "display_name": "Python 2",
   "language": "python",
   "name": "python2"
  },
  "language_info": {
   "codemirror_mode": {
    "name": "ipython",
    "version": 2
   },
   "file_extension": ".py",
   "mimetype": "text/x-python",
   "name": "python",
   "nbconvert_exporter": "python",
   "pygments_lexer": "ipython2",
   "version": "2.7.14"
  }
 },
 "nbformat": 4,
 "nbformat_minor": 2
}
