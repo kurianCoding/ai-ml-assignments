{
 "cells": [
  {
   "cell_type": "code",
   "execution_count": null,
   "metadata": {},
   "outputs": [],
   "source": [
    "from keras.layers.core import Dense,Activation\n",
    "import torch.nn as nn\n",
    "import torch.nn.functional as F\n",
    "import pandas as pd"
   ]
  },
  {
   "cell_type": "code",
   "execution_count": null,
   "metadata": {},
   "outputs": [],
   "source": [
    "from sklearn.linear_model import SGDClassifier\n",
    "import numpy as np"
   ]
  },
  {
   "cell_type": "code",
   "execution_count": null,
   "metadata": {},
   "outputs": [],
   "source": [
    "class MnistClassifier(nn.Module):\n",
    "    def __init__(self):\n",
    "        super(MnistClassifier,self).__init__()\n",
    "        self.layer1=nn.Conv2d(1,6,5,stride=1,padding=1)      \n",
    "        self.layer2=nn.Conv2d(6,16,5,stride=1,padding=1)\n",
    "        self.layer3=nn.Linear(16*5*5,120)\n",
    "        self.layer4=nn.Linear(120,84)\n",
    "        self.layer5=nn.Linear(84,10)\n",
    "        \n",
    "    def forward(self, x):\n",
    "        x=F.max_pool2d(F.relu(self.layer1(x.view(-1,12*12))),(2,2))\n",
    "        x=F.max_pool2d(F.relu(self.layer2(x),2))\n",
    "        x=F.relu(self.layer1(x))\n",
    "        x=F.relu(self.layer2(x))\n",
    "        x=F.relu(self.layer3(x))\n",
    "        x=self.layer3(x)\n",
    "        return x"
   ]
  },
  {
   "cell_type": "code",
   "execution_count": null,
   "metadata": {},
   "outputs": [],
   "source": [
    "dataset=pd.read_csv('dataset/digit-recognizer/train.csv')\n",
    "Ytrain=dataset['label']\n",
    "Xtrain=dataset.drop('label',axis=1)"
   ]
  },
  {
   "cell_type": "code",
   "execution_count": 40,
   "metadata": {},
   "outputs": [
    {
     "name": "stdout",
     "output_type": "stream",
     "text": [
      "MnistClassifier(\n",
      "  (layer1): Conv2d(1, 6, kernel_size=(5, 5), stride=(1, 1), padding=(1, 1))\n",
      "  (layer2): Conv2d(6, 16, kernel_size=(5, 5), stride=(1, 1), padding=(1, 1))\n",
      "  (layer3): Linear(in_features=400, out_features=120, bias=True)\n",
      "  (layer4): Linear(in_features=120, out_features=84, bias=True)\n",
      "  (layer5): Linear(in_features=84, out_features=10, bias=True)\n",
      ")\n"
     ]
    }
   ],
   "source": [
    "mnistcl=MnistClassifier()\n",
    "mnistcl()"
   ]
  },
  {
   "cell_type": "code",
   "execution_count": null,
   "metadata": {},
   "outputs": [],
   "source": []
  }
 ],
 "metadata": {
  "kernelspec": {
   "display_name": "Python 3",
   "language": "python",
   "name": "python3"
  },
  "language_info": {
   "codemirror_mode": {
    "name": "ipython",
    "version": 3
   },
   "file_extension": ".py",
   "mimetype": "text/x-python",
   "name": "python",
   "nbconvert_exporter": "python",
   "pygments_lexer": "ipython3",
   "version": "3.7.2"
  }
 },
 "nbformat": 4,
 "nbformat_minor": 2
}
