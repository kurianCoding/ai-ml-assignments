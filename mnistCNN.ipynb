{
 "cells": [
  {
   "cell_type": "code",
   "execution_count": 1,
   "metadata": {},
   "outputs": [
    {
     "name": "stderr",
     "output_type": "stream",
     "text": [
      "Using TensorFlow backend.\n",
      "/Users/kurian/code/python/kaggle/kaggle/lib/python3.7/importlib/_bootstrap.py:219: RuntimeWarning: compiletime version 3.6 of module 'tensorflow.python.framework.fast_tensor_util' does not match runtime version 3.7\n",
      "  return f(*args, **kwds)\n"
     ]
    }
   ],
   "source": [
    "from __future__ import print_function\n",
    "import keras\n",
    "from keras.datasets import mnist\n",
    "from keras.models import Sequential\n",
    "from keras.layers import Conv2D,MaxPooling2D,Dense,Flatten"
   ]
  },
  {
   "cell_type": "code",
   "execution_count": 2,
   "metadata": {},
   "outputs": [],
   "source": [
    "model=Sequential()\n",
    "inputShape=(28,28,1)\n",
    "model.add(Conv2D(32,kernel_size=(3,3),activation='relu',input_shape=inputShape))\n",
    "model.add(MaxPooling2D(pool_size=(2,2)))\n",
    "model.add(Flatten())\n",
    "model.add(Dense(10,activation='softmax'))\n",
    "model.compile(loss=keras.losses.categorical_crossentropy,optimizer=keras.optimizers.Adadelta(),metrics=['accuracy'])"
   ]
  },
  {
   "cell_type": "code",
   "execution_count": 14,
   "metadata": {},
   "outputs": [
    {
     "name": "stdout",
     "output_type": "stream",
     "text": [
      "<class 'pandas.core.frame.DataFrame'>\n",
      "Train on 21001 samples, validate on 21000 samples\n",
      "Epoch 1/12\n",
      "21001/21001 [==============================] - 13s 626us/step - loss: 0.0186 - acc: 0.9961 - val_loss: 0.0274 - val_acc: 0.9930\n",
      "Epoch 2/12\n",
      "21001/21001 [==============================] - 13s 606us/step - loss: 0.0080 - acc: 0.9983 - val_loss: 0.0206 - val_acc: 0.9957\n",
      "Epoch 3/12\n",
      "21001/21001 [==============================] - 12s 583us/step - loss: 0.0041 - acc: 0.9994 - val_loss: 0.0214 - val_acc: 0.9957\n",
      "Epoch 4/12\n",
      "21001/21001 [==============================] - 12s 589us/step - loss: 0.0031 - acc: 0.9996 - val_loss: 0.0258 - val_acc: 0.9942\n",
      "Epoch 5/12\n",
      "21001/21001 [==============================] - 12s 594us/step - loss: 0.0027 - acc: 0.9998 - val_loss: 0.0235 - val_acc: 0.9949\n",
      "Epoch 6/12\n",
      "21001/21001 [==============================] - 12s 583us/step - loss: 0.0024 - acc: 0.9999 - val_loss: 0.0232 - val_acc: 0.9957\n",
      "Epoch 7/12\n",
      "21001/21001 [==============================] - 12s 587us/step - loss: 0.0024 - acc: 0.9998 - val_loss: 0.0254 - val_acc: 0.9948\n",
      "Epoch 8/12\n",
      "21001/21001 [==============================] - 12s 582us/step - loss: 0.0023 - acc: 0.9999 - val_loss: 0.0258 - val_acc: 0.9947\n",
      "Epoch 9/12\n",
      "21001/21001 [==============================] - 12s 582us/step - loss: 0.0023 - acc: 0.9999 - val_loss: 0.0270 - val_acc: 0.9948\n",
      "Epoch 10/12\n",
      "21001/21001 [==============================] - 13s 635us/step - loss: 0.0023 - acc: 0.9999 - val_loss: 0.0274 - val_acc: 0.9946\n",
      "Epoch 11/12\n",
      "21001/21001 [==============================] - 13s 605us/step - loss: 0.0023 - acc: 0.9999 - val_loss: 0.0283 - val_acc: 0.9945\n",
      "Epoch 12/12\n",
      "21001/21001 [==============================] - 12s 588us/step - loss: 0.0023 - acc: 0.9999 - val_loss: 0.0300 - val_acc: 0.9945\n"
     ]
    },
    {
     "data": {
      "text/plain": [
       "<keras.callbacks.History at 0x12e413f98>"
      ]
     },
     "execution_count": 14,
     "metadata": {},
     "output_type": "execute_result"
    }
   ],
   "source": [
    "import pandas as pd\n",
    "def MnistLoadData(X,Y):\n",
    "    lenx=len(X)\n",
    "    lenY=len(Y)\n",
    "    x1=X.loc[0:lenx/2]\n",
    "    x2=X.loc[lenx/2:lenx]\n",
    "    y1=Y.loc[0:lenY/2]\n",
    "    y2=Y.loc[lenY/2:lenY]\n",
    "    return (x1,y1),(x2,y2)\n",
    "\n",
    "dataset=pd.read_csv('dataset/digit-recognizer/train.csv')\n",
    "X=dataset.drop('label',axis=1)\n",
    "Y=dataset['label']\n",
    "print(type(X))\n",
    "(x1,y1),(x2,y2)=MnistLoadData(X,Y)\n",
    "x1=x1.to_numpy()\n",
    "x2=x2.to_numpy()\n",
    "y1=y1.to_numpy()\n",
    "y2=y2.to_numpy()\n",
    "\n",
    "x1=x1.reshape(x1.shape[0],28,28,1)\n",
    "x2=x2.reshape(x2.shape[0],28,28,1)\n",
    "y1=keras.utils.to_categorical(y1,10)\n",
    "y2=keras.utils.to_categorical(y2,10)\n",
    "model.fit(x1,y1,batch_size=128,epochs=12,verbose=1,validation_data=(x2,y2))"
   ]
  },
  {
   "cell_type": "code",
   "execution_count": 15,
   "metadata": {},
   "outputs": [
    {
     "name": "stdout",
     "output_type": "stream",
     "text": [
      "21000/21000 [==============================] - 4s 193us/step\n"
     ]
    },
    {
     "data": {
      "text/plain": [
       "[0.030031317310699423, 0.9945238095238095]"
      ]
     },
     "execution_count": 15,
     "metadata": {},
     "output_type": "execute_result"
    }
   ],
   "source": [
    "model.evaluate(x2,y2,verbose=1)"
   ]
  }
 ],
 "metadata": {
  "kernelspec": {
   "display_name": "Python 3",
   "language": "python",
   "name": "python3"
  },
  "language_info": {
   "codemirror_mode": {
    "name": "ipython",
    "version": 3
   },
   "file_extension": ".py",
   "mimetype": "text/x-python",
   "name": "python",
   "nbconvert_exporter": "python",
   "pygments_lexer": "ipython3",
   "version": "3.7.2"
  }
 },
 "nbformat": 4,
 "nbformat_minor": 2
}
