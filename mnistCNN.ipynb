{
 "cells": [
  {
   "cell_type": "code",
   "execution_count": 16,
   "metadata": {},
   "outputs": [],
   "source": [
    "from __future__ import print_function\n",
    "import keras\n",
    "from keras.datasets import mnist\n",
    "from keras.models import Sequential\n",
    "from keras.layers import Conv2D,MaxPooling2D,Dense,Flatten"
   ]
  },
  {
   "cell_type": "code",
   "execution_count": 17,
   "metadata": {},
   "outputs": [],
   "source": [
    "model=Sequential()\n",
    "inputShape=(28,28,1)\n",
    "model.add(Conv2D(32,kernel_size=(3,3),activation='relu',input_shape=inputShape))\n",
    "model.add(MaxPooling2D(pool_size=(2,2)))\n",
    "model.add(Flatten())\n",
    "model.add(Dense(10,activation='softmax'))\n",
    "model.compile(loss=keras.losses.categorical_crossentropy,optimizer=keras.optimizers.Adadelta(),metrics=['accuracy'])"
   ]
  },
  {
   "cell_type": "code",
   "execution_count": 18,
   "metadata": {},
   "outputs": [
    {
     "name": "stdout",
     "output_type": "stream",
     "text": [
      "<class 'pandas.core.frame.DataFrame'>\n",
      "Train on 21001 samples, validate on 21000 samples\n",
      "Epoch 1/12\n",
      "21001/21001 [==============================] - 16s 746us/step - loss: 11.3580 - acc: 0.2876 - val_loss: 10.2936 - val_acc: 0.3566\n",
      "Epoch 2/12\n",
      "21001/21001 [==============================] - 12s 595us/step - loss: 9.0124 - acc: 0.4311 - val_loss: 8.1225 - val_acc: 0.4813\n",
      "Epoch 3/12\n",
      "21001/21001 [==============================] - 15s 704us/step - loss: 4.4875 - acc: 0.7043 - val_loss: 3.8026 - val_acc: 0.7490\n",
      "Epoch 4/12\n",
      "21001/21001 [==============================] - 14s 646us/step - loss: 2.3018 - acc: 0.8359 - val_loss: 0.5629 - val_acc: 0.9296\n",
      "Epoch 5/12\n",
      "21001/21001 [==============================] - 13s 610us/step - loss: 0.2562 - acc: 0.9645 - val_loss: 0.2516 - val_acc: 0.9611\n",
      "Epoch 6/12\n",
      "21001/21001 [==============================] - 12s 590us/step - loss: 0.1395 - acc: 0.9764 - val_loss: 0.1917 - val_acc: 0.9683\n",
      "Epoch 7/12\n",
      "21001/21001 [==============================] - 12s 587us/step - loss: 0.0859 - acc: 0.9834 - val_loss: 0.2064 - val_acc: 0.9646\n",
      "Epoch 8/12\n",
      "21001/21001 [==============================] - 13s 624us/step - loss: 0.0579 - acc: 0.9876 - val_loss: 0.2012 - val_acc: 0.9641\n",
      "Epoch 9/12\n",
      "21001/21001 [==============================] - 13s 606us/step - loss: 0.0392 - acc: 0.9926 - val_loss: 0.1868 - val_acc: 0.9690\n",
      "Epoch 10/12\n",
      "21001/21001 [==============================] - 13s 596us/step - loss: 0.0312 - acc: 0.9941 - val_loss: 0.1825 - val_acc: 0.9701\n",
      "Epoch 11/12\n",
      "21001/21001 [==============================] - 14s 645us/step - loss: 0.0234 - acc: 0.9965 - val_loss: 0.1903 - val_acc: 0.9681\n",
      "Epoch 12/12\n",
      "21001/21001 [==============================] - 14s 654us/step - loss: 0.0187 - acc: 0.9977 - val_loss: 0.1816 - val_acc: 0.9722\n"
     ]
    },
    {
     "data": {
      "text/plain": [
       "<keras.callbacks.History at 0x12f63d828>"
      ]
     },
     "execution_count": 18,
     "metadata": {},
     "output_type": "execute_result"
    }
   ],
   "source": [
    "import pandas as pd\n",
    "def MnistLoadData(X,Y):\n",
    "    lenx=len(X)\n",
    "    lenY=len(Y)\n",
    "    x1=X.loc[0:lenx/2]\n",
    "    x2=X.loc[lenx/2:lenx]\n",
    "    y1=Y.loc[0:lenY/2]\n",
    "    y2=Y.loc[lenY/2:lenY]\n",
    "    x1=x1.to_numpy()\n",
    "    x2=x2.to_numpy()\n",
    "    y1=y1.to_numpy()\n",
    "    y2=y2.to_numpy()\n",
    "    return (x1,y1),(x2,y2)\n",
    "\n",
    "dataset=pd.read_csv('dataset/digit-recognizer/train.csv')\n",
    "X=dataset.drop('label',axis=1)\n",
    "Y=dataset['label']\n",
    "\n",
    "(x1,y1),(x2,y2)=MnistLoadData(X,Y)\n",
    "\n",
    "x1=x1.reshape(x1.shape[0],28,28,1)\n",
    "x2=x2.reshape(x2.shape[0],28,28,1)\n",
    "y1=keras.utils.to_categorical(y1,10)\n",
    "y2=keras.utils.to_categorical(y2,10)\n",
    "model.fit(x1,y1,batch_size=128,epochs=12,verbose=1,validation_data=(x2,y2))"
   ]
  },
  {
   "cell_type": "code",
   "execution_count": 23,
   "metadata": {
    "scrolled": false
   },
   "outputs": [
    {
     "name": "stdout",
     "output_type": "stream",
     "text": [
      "21000/21000 [==============================] - 4s 201us/step\n",
      "[[1.25272107e-13 3.56167463e-27 1.00000000e+00 ... 1.21117735e-23\n",
      "  1.01099032e-20 2.52627938e-20]\n",
      " [1.00000000e+00 7.74213630e-28 2.23184706e-08 ... 2.53909874e-21\n",
      "  6.75799258e-20 1.36062792e-13]\n",
      " [7.03443685e-29 5.25475925e-22 2.14025340e-17 ... 3.86860934e-20\n",
      "  1.59689087e-17 1.00000000e+00]\n",
      " ...\n",
      " [1.50068994e-24 1.85197593e-22 9.54195990e-23 ... 7.49072064e-21\n",
      "  5.39373386e-15 5.58550929e-17]\n",
      " [1.85337294e-17 2.97647721e-22 1.70910363e-22 ... 1.42789074e-13\n",
      "  9.43047096e-15 1.00000000e+00]\n",
      " [1.35673582e-20 1.34334930e-30 1.00000000e+00 ... 1.19857157e-28\n",
      "  5.15913508e-17 1.72263182e-16]]\n"
     ]
    }
   ],
   "source": [
    "model.evaluate(x2,y2,verbose=1)\n",
    "#xtest need not be seperated since it only has input vector\n",
    "Xtest=pd.read_csv('dataset/digit-recognizer/test.csv')\n",
    "Xtest=Xtest.to_numpy()\n",
    "Xtest=Xtest.reshape(Xtest.shape[0],28,28,1)\n",
    "Ytest=model.predict(Xtest)\n",
    "print(Ytest)"
   ]
  },
  {
   "cell_type": "code",
   "execution_count": 38,
   "metadata": {},
   "outputs": [],
   "source": [
    "from numpy import argmax\n",
    "import numpy as np\n",
    "Yarray=[]\n",
    "i=1\n",
    "for nu in Ytest:\n",
    "    Yarray.append((i,int(argmax(nu))))\n",
    "    i=i+1\n",
    "\n",
    "np.savetxt(\"dataset/digit-recognizer/submission.csv\",np.asarray(Yarray),delimiter=\",\",fmt=\"%d\")"
   ]
  }
 ],
 "metadata": {
  "kernelspec": {
   "display_name": "Python 3",
   "language": "python",
   "name": "python3"
  },
  "language_info": {
   "codemirror_mode": {
    "name": "ipython",
    "version": 3
   },
   "file_extension": ".py",
   "mimetype": "text/x-python",
   "name": "python",
   "nbconvert_exporter": "python",
   "pygments_lexer": "ipython3",
   "version": "3.7.2"
  }
 },
 "nbformat": 4,
 "nbformat_minor": 2
}
